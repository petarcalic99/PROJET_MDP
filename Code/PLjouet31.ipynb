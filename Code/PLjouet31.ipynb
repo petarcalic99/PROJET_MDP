{
 "cells": [
  {
   "cell_type": "code",
   "execution_count": 1,
   "metadata": {},
   "outputs": [],
   "source": [
    "import numpy as np\n",
    "import pandas\n",
    "from gurobipy import *"
   ]
  },
  {
   "cell_type": "markdown",
   "metadata": {},
   "source": [
    "## Exemple jouet31"
   ]
  },
  {
   "cell_type": "code",
   "execution_count": 29,
   "metadata": {},
   "outputs": [
    {
     "name": "stdout",
     "output_type": "stream",
     "text": [
      "matrices de transitions:\n",
      "[[[0.   0.6  0.4  0.   0.   0.   0.   0.   0.  ]\n",
      "  [0.   1.   0.   0.   0.   0.   0.   0.   0.  ]\n",
      "  [0.   0.   1.   0.   0.   0.   0.   0.   0.  ]\n",
      "  [0.   0.   0.   1.   0.   0.   0.   0.   0.  ]\n",
      "  [0.   0.   0.   0.   1.   0.   0.   0.   0.  ]\n",
      "  [0.   0.   0.   0.   0.   1.   0.   0.   0.  ]\n",
      "  [0.   0.   0.   0.   0.   0.   1.   0.   0.  ]\n",
      "  [0.   0.   0.   0.   0.   0.   0.   1.   0.  ]\n",
      "  [0.   0.   0.   0.   0.   0.   0.   0.   1.  ]]\n",
      "\n",
      " [[0.   0.   0.   0.3  0.5  0.2  0.   0.   0.  ]\n",
      "  [0.   1.   0.   0.   0.   0.   0.   0.   0.  ]\n",
      "  [0.   0.   1.   0.   0.   0.   0.   0.   0.  ]\n",
      "  [0.   0.   0.   1.   0.   0.   0.   0.   0.  ]\n",
      "  [0.   0.   0.   0.   1.   0.   0.   0.   0.  ]\n",
      "  [0.   0.   0.   0.   0.   1.   0.   0.   0.  ]\n",
      "  [0.   0.   0.   0.   0.   0.   1.   0.   0.  ]\n",
      "  [0.   0.   0.   0.   0.   0.   0.   1.   0.  ]\n",
      "  [0.   0.   0.   0.   0.   0.   0.   0.   1.  ]]\n",
      "\n",
      " [[0.   0.   0.   0.   0.   0.   0.15 0.85 0.  ]\n",
      "  [0.   1.   0.   0.   0.   0.   0.   0.   0.  ]\n",
      "  [0.   0.   1.   0.   0.   0.   0.   0.   0.  ]\n",
      "  [0.   0.   0.   1.   0.   0.   0.   0.   0.  ]\n",
      "  [0.   0.   0.   0.   1.   0.   0.   0.   0.  ]\n",
      "  [0.   0.   0.   0.   0.   1.   0.   0.   0.  ]\n",
      "  [0.   0.   0.   0.   0.   0.   1.   0.   0.  ]\n",
      "  [0.   0.   0.   0.   0.   0.   0.   1.   0.  ]\n",
      "  [0.   0.   0.   0.   0.   0.   0.   0.   1.  ]]\n",
      "\n",
      " [[1.   0.   0.   0.   0.   0.   0.   0.   0.  ]\n",
      "  [1.   0.   0.   0.   0.   0.   0.   0.   0.  ]\n",
      "  [0.   0.   1.   0.   0.   0.   0.   0.   0.  ]\n",
      "  [0.   0.   0.   1.   0.   0.   0.   0.   0.  ]\n",
      "  [0.   0.   0.   0.   1.   0.   0.   0.   0.  ]\n",
      "  [0.   0.   0.   0.   0.   1.   0.   0.   0.  ]\n",
      "  [0.   0.   0.   0.   0.   0.   1.   0.   0.  ]\n",
      "  [1.   0.   0.   0.   0.   0.   0.   0.   0.  ]\n",
      "  [0.   0.   0.   0.   0.   0.   0.   0.   1.  ]]\n",
      "\n",
      " [[1.   0.   0.   0.   0.   0.   0.   0.   0.  ]\n",
      "  [0.   0.   0.   0.   0.   0.   0.   0.   1.  ]\n",
      "  [0.   0.   0.   0.   0.   0.   0.   0.   1.  ]\n",
      "  [0.   0.   0.   1.   0.   0.   0.   0.   0.  ]\n",
      "  [0.   0.   0.   0.   1.   0.   0.   0.   0.  ]\n",
      "  [0.   0.   0.   0.   0.   1.   0.   0.   0.  ]\n",
      "  [0.   0.   0.   0.   0.   0.   1.   0.   0.  ]\n",
      "  [0.   0.   0.   0.   0.   0.   0.   1.   0.  ]\n",
      "  [0.   0.   0.   0.   0.   0.   0.   0.   1.  ]]\n",
      "\n",
      " [[1.   0.   0.   0.   0.   0.   0.   0.   0.  ]\n",
      "  [0.   1.   0.   0.   0.   0.   0.   0.   0.  ]\n",
      "  [0.   0.   1.   0.   0.   0.   0.   0.   0.  ]\n",
      "  [0.   0.   0.   0.   0.   0.   0.   0.   1.  ]\n",
      "  [0.   0.   0.   0.   0.   0.   0.   0.   1.  ]\n",
      "  [0.   0.   0.   0.   0.   0.   0.   0.   1.  ]\n",
      "  [0.   0.   0.   0.   0.   0.   1.   0.   0.  ]\n",
      "  [0.   0.   0.   0.   0.   0.   0.   1.   0.  ]\n",
      "  [0.   0.   0.   0.   0.   0.   0.   0.   1.  ]]\n",
      "\n",
      " [[1.   0.   0.   0.   0.   0.   0.   0.   0.  ]\n",
      "  [0.   1.   0.   0.   0.   0.   0.   0.   0.  ]\n",
      "  [0.   0.   1.   0.   0.   0.   0.   0.   0.  ]\n",
      "  [0.   0.   0.   1.   0.   0.   0.   0.   0.  ]\n",
      "  [0.   0.   0.   0.   1.   0.   0.   0.   0.  ]\n",
      "  [0.   0.   0.   0.   0.   1.   0.   0.   0.  ]\n",
      "  [0.   0.   0.   0.   0.   0.   0.   0.   1.  ]\n",
      "  [0.   0.   0.   0.   0.   0.   0.   1.   0.  ]\n",
      "  [0.   0.   0.   0.   0.   0.   0.   0.   1.  ]]\n",
      "\n",
      " [[1.   0.   0.   0.   0.   0.   0.   0.   0.  ]\n",
      "  [0.   1.   0.   0.   0.   0.   0.   0.   0.  ]\n",
      "  [0.   0.   1.   0.   0.   0.   0.   0.   0.  ]\n",
      "  [0.   0.   0.   1.   0.   0.   0.   0.   0.  ]\n",
      "  [0.   0.   0.   0.   1.   0.   0.   0.   0.  ]\n",
      "  [0.   0.   0.   0.   0.   1.   0.   0.   0.  ]\n",
      "  [0.   0.   0.   0.   0.   0.   1.   0.   0.  ]\n",
      "  [0.   0.   0.   0.   0.   0.   1.   0.   0.  ]\n",
      "  [0.   0.   0.   0.   0.   0.   0.   0.   1.  ]]]\n",
      "matrices de rewards:\n",
      "[[      15       10        5 10000000 10000000 10000000 10000000 10000000]\n",
      " [10000000 10000000 10000000       10       30 10000000 10000000 10000000]\n",
      " [10000000 10000000 10000000 10000000       15 10000000 10000000 10000000]\n",
      " [10000000 10000000 10000000 10000000 10000000       10 10000000 10000000]\n",
      " [10000000 10000000 10000000 10000000 10000000       20 10000000 10000000]\n",
      " [10000000 10000000 10000000 10000000 10000000       60 10000000 10000000]\n",
      " [10000000 10000000 10000000 10000000 10000000 10000000        5 10000000]\n",
      " [10000000 10000000 10000000        5 10000000 10000000 10000000       15]\n",
      " [10000000 10000000 10000000 10000000        0 10000000 10000000        0]]\n"
     ]
    }
   ],
   "source": [
    "P = np.array(( ((0,0.6,0.4,0,0,0,0,0,0),(0,1,0,0,0,0,0,0,0),(0,0,1,0,0,0,0,0,0),(0,0,0,1,0,0,0,0,0),(0,0,0,0,1,0,0,0,0),(0,0,0,0,0,1,0,0,0),(0,0,0,0,0,0,1,0,0),(0,0,0,0,0,0,0,1,0),(0,0,0,0,0,0,0,0,1)),((0,0,0,0.3,0.5,0.2,0,0,0),(0,1,0,0,0,0,0,0,0),(0,0,1,0,0,0,0,0,0),(0,0,0,1,0,0,0,0,0),(0,0,0,0,1,0,0,0,0),(0,0,0,0,0,1,0,0,0),(0,0,0,0,0,0,1,0,0),(0,0,0,0,0,0,0,1,0),(0,0,0,0,0,0,0,0,1)),((0,0,0,0,0,0,0.15,0.85,0),(0,1,0,0,0,0,0,0,0),(0,0,1,0,0,0,0,0,0),(0,0,0,1,0,0,0,0,0),(0,0,0,0,1,0,0,0,0),(0,0,0,0,0,1,0,0,0),(0,0,0,0,0,0,1,0,0),(0,0,0,0,0,0,0,1,0),(0,0,0,0,0,0,0,0,1)),((1,0,0,0,0,0,0,0,0),(1,0,0,0,0,0,0,0,0),(0,0,1,0,0,0,0,0,0),(0,0,0,1,0,0,0,0,0),(0,0,0,0,1,0,0,0,0),(0,0,0,0,0,1,0,0,0),(0,0,0,0,0,0,1,0,0),(1,0,0,0,0,0,0,0,0),(0,0,0,0,0,0,0,0,1)),((1,0,0,0,0,0,0,0,0),(0,0,0,0,0,0,0,0,1),(0,0,0,0,0,0,0,0,1),(0,0,0,1,0,0,0,0,0),(0,0,0,0,1,0,0,0,0),(0,0,0,0,0,1,0,0,0),(0,0,0,0,0,0,1,0,0),(0,0,0,0,0,0,0,1,0),(0,0,0,0,0,0,0,0,1)),((1,0,0,0,0,0,0,0,0),(0,1,0,0,0,0,0,0,0),(0,0,1,0,0,0,0,0,0),(0,0,0,0,0,0,0,0,1),(0,0,0,0,0,0,0,0,1),(0,0,0,0,0,0,0,0,1),(0,0,0,0,0,0,1,0,0),(0,0,0,0,0,0,0,1,0),(0,0,0,0,0,0,0,0,1)),((1,0,0,0,0,0,0,0,0),(0,1,0,0,0,0,0,0,0),(0,0,1,0,0,0,0,0,0),(0,0,0,1,0,0,0,0,0),(0,0,0,0,1,0,0,0,0),(0,0,0,0,0,1,0,0,0),(0,0,0,0,0,0,0,0,1),(0,0,0,0,0,0,0,1,0),(0,0,0,0,0,0,0,0,1)),((1,0,0,0,0,0,0,0,0),(0,1,0,0,0,0,0,0,0),(0,0,1,0,0,0,0,0,0),(0,0,0,1,0,0,0,0,0),(0,0,0,0,1,0,0,0,0),(0,0,0,0,0,1,0,0,0),(0,0,0,0,0,0,1,0,0),(0,0,0,0,0,0,1,0,0),(0,0,0,0,0,0,0,0,1)) ))\n",
    "\n",
    "pen = 10000000\n",
    "R = np.array(( ((15, 10, 5, pen,pen,pen,pen,pen),(pen, pen, pen, 10,30,pen,pen,pen), (pen, pen, pen, pen,15,pen,pen,pen), (pen, pen, pen, pen,pen,10,pen,pen),  (pen, pen, pen, pen,pen,20,pen,pen),(pen, pen, pen, pen,pen,60,pen,pen),(pen, pen, pen, pen,pen,pen,5,pen), (pen, pen, pen, 5,pen,pen,pen,15),(pen, pen, pen, pen,0,pen,pen,0)) ))  \n",
    "\n",
    "gamma = 0.9999\n",
    "print(\"matrices de transitions:\")\n",
    "print(P)\n",
    "print(\"matrices de rewards:\")\n",
    "print(R)"
   ]
  },
  {
   "cell_type": "code",
   "execution_count": 30,
   "metadata": {},
   "outputs": [
    {
     "data": {
      "text/plain": [
       "1.0"
      ]
     },
     "execution_count": 30,
     "metadata": {},
     "output_type": "execute_result"
    }
   ],
   "source": [
    "P[1][1,1]"
   ]
  },
  {
   "cell_type": "code",
   "execution_count": 31,
   "metadata": {},
   "outputs": [
    {
     "name": "stdout",
     "output_type": "stream",
     "text": [
      "Gurobi Optimizer version 9.1.1 build v9.1.1rc0 (win64)\n",
      "Thread count: 4 physical cores, 8 logical processors, using up to 8 threads\n",
      "Optimize a model with 72 rows, 9 columns and 88 nonzeros\n",
      "Model fingerprint: 0x67269d0e\n",
      "Coefficient statistics:\n",
      "  Matrix range     [1e-04, 1e+00]\n",
      "  Objective range  [1e-01, 1e-01]\n",
      "  Bounds range     [0e+00, 0e+00]\n",
      "  RHS range        [5e+00, 1e+07]\n",
      "Presolve removed 68 rows and 6 columns\n",
      "Presolve time: 0.01s\n",
      "Presolved: 4 rows, 3 columns, 8 nonzeros\n",
      "\n",
      "Iteration    Objective       Primal Inf.    Dual Inf.      Time\n",
      "       0    2.0305256e+01   0.000000e+00   0.000000e+00      0s\n",
      "       0    2.0305256e+01   0.000000e+00   0.000000e+00      0s\n",
      "\n",
      "Solved in 0 iterations and 0.01 seconds\n",
      "Optimal objective  2.030525556e+01\n",
      "\n",
      "Solution optimale:\n",
      "v1 = <gurobi.Var C0 (value 22.747800042500003)>\n",
      "v2 = <gurobi.Var C1 (value 30.0)>\n",
      "v3 = <gurobi.Var C2 (value 15.0)>\n",
      "v4 = <gurobi.Var C3 (value 10.0)>\n",
      "v5 = <gurobi.Var C4 (value 20.0)>\n",
      "v6 = <gurobi.Var C5 (value 60.0)>\n",
      "v7 = <gurobi.Var C6 (value 5.0)>\n",
      "v8 = <gurobi.Var C7 (value 19.9995)>\n",
      "v9 = <gurobi.Var C8 (value 0.0)>\n"
     ]
    }
   ],
   "source": [
    "nbS = 9\n",
    "nbA = 8\n",
    "m = Model(\"MDPjouet30\")     \n",
    "\n",
    "# declaration variables de decision\n",
    "v = []\n",
    "for i in range(nbS):\n",
    "    v.append(m.addVar(vtype=GRB.CONTINUOUS)) \n",
    "\n",
    "        \n",
    "# maj du modele pour integrer les nouvelles variables\n",
    "m.update()\n",
    "\n",
    "obj = LinExpr();\n",
    "\n",
    "for i in range(nbS):\n",
    "    obj += v[i]/nbS   \n",
    "# definition de l'objectif\n",
    "m.setObjective(obj,GRB.MAXIMIZE)\n",
    "\n",
    "# Definition des contraintes\n",
    "for i in range(nbS):\n",
    "    for j in range(nbA):\n",
    "        sums = 0\n",
    "        for k in range(nbS):\n",
    "            sums = sums + gamma*P[j][i,k]*v[k]\n",
    "        m.addConstr( v[i] <= R[i,j] + sums, \"Contrainte%d\" % i) #r(s,a)+ \\sum_{s'} p(s'|s,a) h(s')\n",
    "\n",
    "# Resolution\n",
    "m.optimize()\n",
    "\n",
    "print(\"\")                \n",
    "print('Solution optimale:')\n",
    "for i in range(nbS):\n",
    "        print('v%d'%(i+1), '=', v[i])\n",
    "#print('Valeur de la fonction objectif (somme des V(S)) :', m.objVal)"
   ]
  },
  {
   "cell_type": "code",
   "execution_count": null,
   "metadata": {},
   "outputs": [],
   "source": []
  },
  {
   "cell_type": "code",
   "execution_count": null,
   "metadata": {},
   "outputs": [],
   "source": []
  },
  {
   "cell_type": "code",
   "execution_count": null,
   "metadata": {},
   "outputs": [],
   "source": []
  },
  {
   "cell_type": "code",
   "execution_count": null,
   "metadata": {},
   "outputs": [],
   "source": []
  },
  {
   "cell_type": "code",
   "execution_count": null,
   "metadata": {},
   "outputs": [],
   "source": []
  },
  {
   "cell_type": "code",
   "execution_count": null,
   "metadata": {},
   "outputs": [],
   "source": []
  },
  {
   "cell_type": "code",
   "execution_count": null,
   "metadata": {},
   "outputs": [],
   "source": []
  }
 ],
 "metadata": {
  "kernelspec": {
   "display_name": "Python 3",
   "language": "python",
   "name": "python3"
  },
  "language_info": {
   "codemirror_mode": {
    "name": "ipython",
    "version": 3
   },
   "file_extension": ".py",
   "mimetype": "text/x-python",
   "name": "python",
   "nbconvert_exporter": "python",
   "pygments_lexer": "ipython3",
   "version": "3.8.5"
  }
 },
 "nbformat": 4,
 "nbformat_minor": 4
}
