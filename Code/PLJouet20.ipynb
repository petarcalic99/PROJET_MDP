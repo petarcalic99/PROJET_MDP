{
 "cells": [
  {
   "cell_type": "code",
   "execution_count": 1,
   "metadata": {},
   "outputs": [],
   "source": [
    "import numpy as np\n",
    "import pandas\n",
    "from gurobipy import *"
   ]
  },
  {
   "cell_type": "markdown",
   "metadata": {},
   "source": [
    "## Exemple jouet20"
   ]
  },
  {
   "cell_type": "code",
   "execution_count": 45,
   "metadata": {},
   "outputs": [
    {
     "name": "stdout",
     "output_type": "stream",
     "text": [
      "matrices de transitions:\n",
      "[[[0.     0.     1.    ]\n",
      "  [0.     1.     0.    ]\n",
      "  [0.     0.     1.    ]]\n",
      "\n",
      " [[0.     1.     0.    ]\n",
      "  [0.     1.     0.    ]\n",
      "  [0.     0.     1.    ]]\n",
      "\n",
      " [[1.     0.     0.    ]\n",
      "  [1.     0.     0.    ]\n",
      "  [0.     0.     1.    ]]\n",
      "\n",
      " [[1.     0.     0.    ]\n",
      "  [0.     1.     0.    ]\n",
      "  [0.3333 0.3333 0.3334]]]\n",
      "matrices de rewards:\n",
      "[[    2     1 -1000 -1000]\n",
      " [-1000 -1000     2 -1000]\n",
      " [-1000 -1000 -1000     3]]\n"
     ]
    }
   ],
   "source": [
    "P = np.array(( ((0,0,1),(0,1,0 ),(0,0,1)) , ((0,1,0),(0,1,0 ),(0,0,1)) , ((1,0,0),(1,0,0 ),(0,0,1)), ((1,0,0),(0,1,0),(0.3333,0.3333,0.3334))  ))\n",
    "R = np.array(((2, 1, -1000, -1000), (-1000, -1000,2,-1000),(-1000,-1000,-1000,3)))\n",
    "gamma = 1\n",
    "print(\"matrices de transitions:\")\n",
    "print(P)\n",
    "print(\"matrices de rewards:\")\n",
    "print(R)"
   ]
  },
  {
   "cell_type": "code",
   "execution_count": 43,
   "metadata": {},
   "outputs": [
    {
     "name": "stdout",
     "output_type": "stream",
     "text": [
      "Gurobi Optimizer version 9.1.1 build v9.1.1rc0 (win64)\n",
      "Thread count: 4 physical cores, 8 logical processors, using up to 8 threads\n",
      "Optimize a model with 12 rows, 4 columns and 21 nonzeros\n",
      "Model fingerprint: 0x12c6caf3\n",
      "Coefficient statistics:\n",
      "  Matrix range     [3e-01, 1e+00]\n",
      "  Objective range  [1e+00, 1e+00]\n",
      "  Bounds range     [0e+00, 0e+00]\n",
      "  RHS range        [1e+00, 1e+03]\n",
      "Presolve removed 8 rows and 0 columns\n",
      "Presolve time: 0.03s\n",
      "Presolved: 4 rows, 4 columns, 13 nonzeros\n",
      "\n",
      "Iteration    Objective       Primal Inf.    Dual Inf.      Time\n",
      "       0    0.0000000e+00   9.333200e+00   0.000000e+00      0s\n",
      "       2    2.5000250e+00   0.000000e+00   0.000000e+00      0s\n",
      "\n",
      "Solved in 2 iterations and 0.05 seconds\n",
      "Optimal objective  2.500025001e+00\n",
      "\n",
      "Solution optimale:\n",
      "v1 = <gurobi.Var C0 (value 0.5000250012500622)>\n",
      "v2 = <gurobi.Var C1 (value 0.0)>\n",
      "v3 = <gurobi.Var C2 (value 1.0000500025001244)>\n"
     ]
    }
   ],
   "source": [
    "'''\n",
    "si n est la taille de l'espace d'état il y a n+1 variables de décision\n",
    "le scalaire g et h(s) avec s les n etats.\n",
    "g terme de la valeure moyenne\n",
    "pour résoudre le systeme:\n",
    "min g\n",
    "sous contrainte\n",
    "h(s) >= r(s,a) -g + \\sum_{s'} p(s'|s,a) h(s') pour tout s et a\n",
    "'''\n",
    "\n",
    "nbS = 3\n",
    "nbA = 4\n",
    "m = Model(\"MDPjouet20\")     \n",
    "\n",
    "# declaration variables de decision\n",
    "v = []\n",
    "for i in range(nbS):\n",
    "    v.append(m.addVar(vtype=GRB.CONTINUOUS)) \n",
    "\n",
    "g = []\n",
    "g.append(m.addVar(vtype=GRB.CONTINUOUS))\n",
    "\n",
    "# maj du modele pour integrer les nouvelles variables\n",
    "m.update()\n",
    "\n",
    "obj = LinExpr();\n",
    "\n",
    "obj = g[0]\n",
    "\n",
    "# definition de l'objectif\n",
    "m.setObjective(obj,GRB.MINIMIZE)\n",
    "\n",
    "# Definition des contraintes\n",
    "for i in range(nbS):\n",
    "    for j in range(nbA):\n",
    "        sums = 0\n",
    "        for k in range(nbS):\n",
    "            sums = sums + gamma*P[j][i,k]*v[k]\n",
    "        m.addConstr( v[i] >= R[i,j] -g[0] + sums, \"Contrainte%d\" % i) #r(s,a) -g + \\sum_{s'} p(s'|s,a) h(s')\n",
    "\n",
    "# Resolution\n",
    "m.optimize()\n",
    "\n",
    "print(\"\")                \n",
    "print('Solution optimale:')\n",
    "for i in range(nbS):\n",
    "        print('v%d'%(i+1), '=', v[i])\n",
    "#print('Valeur de la fonction objectif (somme des V(S)) :', m.objVal)"
   ]
  },
  {
   "cell_type": "code",
   "execution_count": null,
   "metadata": {},
   "outputs": [],
   "source": []
  },
  {
   "cell_type": "code",
   "execution_count": null,
   "metadata": {},
   "outputs": [],
   "source": []
  }
 ],
 "metadata": {
  "kernelspec": {
   "display_name": "Python 3",
   "language": "python",
   "name": "python3"
  },
  "language_info": {
   "codemirror_mode": {
    "name": "ipython",
    "version": 3
   },
   "file_extension": ".py",
   "mimetype": "text/x-python",
   "name": "python",
   "nbconvert_exporter": "python",
   "pygments_lexer": "ipython3",
   "version": "3.8.5"
  }
 },
 "nbformat": 4,
 "nbformat_minor": 4
}
