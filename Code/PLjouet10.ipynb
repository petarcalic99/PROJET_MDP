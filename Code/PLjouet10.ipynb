{
 "cells": [
  {
   "cell_type": "code",
   "execution_count": 1,
   "metadata": {},
   "outputs": [],
   "source": [
    "import numpy as np\n",
    "import pandas\n",
    "from gurobipy import *"
   ]
  },
  {
   "cell_type": "markdown",
   "metadata": {},
   "source": [
    "## Exemple jouet10"
   ]
  },
  {
   "cell_type": "code",
   "execution_count": 2,
   "metadata": {},
   "outputs": [
    {
     "name": "stdout",
     "output_type": "stream",
     "text": [
      "matrices de transitions:\n",
      "[[[0.6 0.4]\n",
      "  [0.5 0.5]]\n",
      "\n",
      " [[0.2 0.8]\n",
      "  [0.7 0.3]]]\n",
      "matrices de rewards:\n",
      "[[ 4.5  2. ]\n",
      " [-1.5  3. ]]\n"
     ]
    }
   ],
   "source": [
    "P = np.array((((0.6, 0.4), (0.5, 0.5)), ((0.2, 0.8), (0.7, 0.3))))\n",
    "R = np.array(((4.5, 2), (-1.5, 3)))\n",
    "gamma = 0.5\n",
    "print(\"matrices de transitions:\")\n",
    "print(P)\n",
    "print(\"matrices de rewards:\")\n",
    "print(R)"
   ]
  },
  {
   "cell_type": "code",
   "execution_count": 3,
   "metadata": {},
   "outputs": [
    {
     "data": {
      "text/plain": [
       "0.3"
      ]
     },
     "execution_count": 3,
     "metadata": {},
     "output_type": "execute_result"
    }
   ],
   "source": [
    "#Variables de decision: v1 et v2\n",
    "P[1][1,1]"
   ]
  },
  {
   "cell_type": "code",
   "execution_count": 4,
   "metadata": {},
   "outputs": [
    {
     "name": "stdout",
     "output_type": "stream",
     "text": [
      "Academic license - for non-commercial use only - expires 2021-07-23\n",
      "Using license file C:\\Users\\petar\\gurobi.lic\n",
      "Gurobi Optimizer version 9.1.1 build v9.1.1rc0 (win64)\n",
      "Thread count: 4 physical cores, 8 logical processors, using up to 8 threads\n",
      "Optimize a model with 4 rows, 2 columns and 8 nonzeros\n",
      "Model fingerprint: 0x0263d0c1\n",
      "Coefficient statistics:\n",
      "  Matrix range     [2e-01, 9e-01]\n",
      "  Objective range  [5e-01, 5e-01]\n",
      "  Bounds range     [0e+00, 0e+00]\n",
      "  RHS range        [2e+00, 5e+00]\n",
      "Presolve time: 0.01s\n",
      "Presolved: 4 rows, 2 columns, 8 nonzeros\n",
      "\n",
      "Iteration    Objective       Primal Inf.    Dual Inf.      Time\n",
      "       0    0.0000000e+00   9.500000e+00   0.000000e+00      0s\n",
      "       2    7.7142857e+00   0.000000e+00   0.000000e+00      0s\n",
      "\n",
      "Solved in 2 iterations and 0.02 seconds\n",
      "Optimal objective  7.714285714e+00\n",
      "\n",
      "Solution optimale:\n",
      "v1 = <gurobi.Var C0 (value 8.42857142857143)>\n",
      "v2 = <gurobi.Var C1 (value 7.000000000000002)>\n"
     ]
    }
   ],
   "source": [
    "nbS = 2\n",
    "nbA = 2\n",
    "m = Model(\"MDPjouet10\")     \n",
    "\n",
    "# declaration variables de decision\n",
    "v = []\n",
    "for i in range(nbS):\n",
    "    v.append(m.addVar(vtype=GRB.CONTINUOUS)) \n",
    "\n",
    "        \n",
    "# maj du modele pour integrer les nouvelles variables\n",
    "m.update()\n",
    "\n",
    "obj = LinExpr();\n",
    "\n",
    "for i in range(nbS):\n",
    "    obj += v[i]/nbS   \n",
    "# definition de l'objectif\n",
    "m.setObjective(obj,GRB.MINIMIZE)\n",
    "\n",
    "# Definition des contraintes\n",
    "for i in range(nbS):\n",
    "    for j in range(nbA):\n",
    "        sums = 0\n",
    "        for k in range(nbS):\n",
    "            sums = sums + gamma*P[j][i,k]*v[k]\n",
    "        m.addConstr( v[i] >= R[i,j] + sums, \"Contrainte%d\" % i) #r(s,a)+ \\sum_{s'} p(s'|s,a) h(s')\n",
    "\n",
    "# Resolution\n",
    "m.optimize()\n",
    "\n",
    "print(\"\")                \n",
    "print('Solution optimale:')\n",
    "for i in range(nbS):\n",
    "        print('v%d'%(i+1), '=', v[i])\n",
    "#print('Valeur de la fonction objectif (somme des V(S)) :', m.objVal)"
   ]
  },
  {
   "cell_type": "code",
   "execution_count": null,
   "metadata": {},
   "outputs": [],
   "source": []
  },
  {
   "cell_type": "code",
   "execution_count": null,
   "metadata": {},
   "outputs": [],
   "source": []
  },
  {
   "cell_type": "code",
   "execution_count": null,
   "metadata": {},
   "outputs": [],
   "source": []
  },
  {
   "cell_type": "code",
   "execution_count": null,
   "metadata": {},
   "outputs": [],
   "source": []
  },
  {
   "cell_type": "code",
   "execution_count": null,
   "metadata": {},
   "outputs": [],
   "source": []
  },
  {
   "cell_type": "code",
   "execution_count": null,
   "metadata": {},
   "outputs": [],
   "source": []
  },
  {
   "cell_type": "code",
   "execution_count": null,
   "metadata": {},
   "outputs": [],
   "source": []
  }
 ],
 "metadata": {
  "kernelspec": {
   "display_name": "Python 3",
   "language": "python",
   "name": "python3"
  },
  "language_info": {
   "codemirror_mode": {
    "name": "ipython",
    "version": 3
   },
   "file_extension": ".py",
   "mimetype": "text/x-python",
   "name": "python",
   "nbconvert_exporter": "python",
   "pygments_lexer": "ipython3",
   "version": "3.8.5"
  }
 },
 "nbformat": 4,
 "nbformat_minor": 4
}
