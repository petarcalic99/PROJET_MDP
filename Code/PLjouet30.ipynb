{
 "cells": [
  {
   "cell_type": "code",
   "execution_count": 1,
   "metadata": {},
   "outputs": [],
   "source": [
    "import numpy as np\n",
    "import pandas\n",
    "from gurobipy import *"
   ]
  },
  {
   "cell_type": "markdown",
   "metadata": {},
   "source": [
    "## Exemple jouet30"
   ]
  },
  {
   "cell_type": "code",
   "execution_count": 6,
   "metadata": {},
   "outputs": [
    {
     "name": "stdout",
     "output_type": "stream",
     "text": [
      "matrices de transitions:\n",
      "[[[0.     0.875  0.0625 0.0625]\n",
      "  [0.     0.75   0.     0.25  ]\n",
      "  [0.     0.     0.5    0.5   ]\n",
      "  [0.     0.     0.     1.    ]]\n",
      "\n",
      " [[0.875  0.     0.125  0.    ]\n",
      "  [0.     0.75   0.125  0.125 ]\n",
      "  [0.8    0.     0.2    0.    ]\n",
      "  [0.     0.     0.     1.    ]]\n",
      "\n",
      " [[0.     0.     1.     0.    ]\n",
      "  [1.     0.     0.     0.    ]\n",
      "  [0.     1.     0.     0.    ]\n",
      "  [0.     0.     0.     1.    ]]]\n",
      "matrices de rewards:\n",
      "[[   0 4000 6000]\n",
      " [1000 4000 6000]\n",
      " [3000 4000 6000]\n",
      " [3000 4000 6000]]\n"
     ]
    }
   ],
   "source": [
    "P = np.array(( ((0,0.875,0.0625,0.0625),(0,0.75,0,0.25 ),(0,0,0.5,0.5),(0,0,0,1)) , ((0.875,0,0.125,0),(0,0.75,0.125,0.125 ),(0.8,0,0.2,0),(0,0,0,1))  , ((0,0,1,0),(1,0,0,0 ),(0,1,0,0),(0,0,0,1))  ))\n",
    "R = np.array(((0, 4000, 6000), (1000,4000 ,6000),(3000,4000,6000),(3000,4000,6000)))\n",
    "gamma = 0.9999\n",
    "print(\"matrices de transitions:\")\n",
    "print(P)\n",
    "print(\"matrices de rewards:\")\n",
    "print(R)"
   ]
  },
  {
   "cell_type": "code",
   "execution_count": 7,
   "metadata": {},
   "outputs": [
    {
     "data": {
      "text/plain": [
       "0.75"
      ]
     },
     "execution_count": 7,
     "metadata": {},
     "output_type": "execute_result"
    }
   ],
   "source": [
    "P[1][1,1]"
   ]
  },
  {
   "cell_type": "code",
   "execution_count": 9,
   "metadata": {},
   "outputs": [
    {
     "name": "stdout",
     "output_type": "stream",
     "text": [
      "Gurobi Optimizer version 9.1.1 build v9.1.1rc0 (win64)\n",
      "Thread count: 4 physical cores, 8 logical processors, using up to 8 threads\n",
      "Optimize a model with 12 rows, 4 columns and 24 nonzeros\n",
      "Model fingerprint: 0x48b043eb\n",
      "Coefficient statistics:\n",
      "  Matrix range     [1e-04, 1e+00]\n",
      "  Objective range  [3e-01, 3e-01]\n",
      "  Bounds range     [0e+00, 0e+00]\n",
      "  RHS range        [1e+03, 6e+03]\n",
      "Presolve removed 5 rows and 1 columns\n",
      "Presolve time: 0.01s\n",
      "Presolved: 7 rows, 3 columns, 15 nonzeros\n",
      "\n",
      "Iteration    Objective       Primal Inf.    Dual Inf.      Time\n",
      "       0    5.0000000e+29   1.500350e+30   5.000000e-01      0s\n",
      "       2    2.9993023e+07   0.000000e+00   0.000000e+00      0s\n",
      "\n",
      "Solved in 2 iterations and 0.01 seconds\n",
      "Optimal objective  2.999302332e+07\n",
      "\n",
      "Solution optimale:\n",
      "v1 = <gurobi.Var C0 (value 29989419.800716452)>\n",
      "v2 = <gurobi.Var C1 (value 29992002.39928351)>\n",
      "v3 = <gurobi.Var C2 (value 29990671.091959085)>\n",
      "v4 = <gurobi.Var C3 (value 30000000.000003304)>\n"
     ]
    }
   ],
   "source": [
    "nbS = 4\n",
    "nbA = 3\n",
    "m = Model(\"MDPjouet30\")     \n",
    "\n",
    "# declaration variables de decision\n",
    "v = []\n",
    "for i in range(nbS):\n",
    "    v.append(m.addVar(vtype=GRB.CONTINUOUS)) \n",
    "\n",
    "        \n",
    "# maj du modele pour integrer les nouvelles variables\n",
    "m.update()\n",
    "\n",
    "obj = LinExpr();\n",
    "\n",
    "for i in range(nbS):\n",
    "    obj += v[i]/nbS   \n",
    "# definition de l'objectif\n",
    "m.setObjective(obj,GRB.MAXIMIZE)\n",
    "\n",
    "# Definition des contraintes\n",
    "for i in range(nbS):\n",
    "    for j in range(nbA):\n",
    "        sums = 0\n",
    "        for k in range(nbS):\n",
    "            sums = sums + gamma*P[j][i,k]*v[k]\n",
    "        m.addConstr( v[i] <= R[i,j] + sums, \"Contrainte%d\" % i) #r(s,a)+ \\sum_{s'} p(s'|s,a) h(s')\n",
    "\n",
    "# Resolution\n",
    "m.optimize()\n",
    "\n",
    "print(\"\")                \n",
    "print('Solution optimale:')\n",
    "for i in range(nbS):\n",
    "        print('v%d'%(i+1), '=', v[i])\n",
    "#print('Valeur de la fonction objectif (somme des V(S)) :', m.objVal)"
   ]
  },
  {
   "cell_type": "code",
   "execution_count": null,
   "metadata": {},
   "outputs": [],
   "source": []
  },
  {
   "cell_type": "code",
   "execution_count": null,
   "metadata": {},
   "outputs": [],
   "source": []
  },
  {
   "cell_type": "code",
   "execution_count": null,
   "metadata": {},
   "outputs": [],
   "source": []
  },
  {
   "cell_type": "code",
   "execution_count": null,
   "metadata": {},
   "outputs": [],
   "source": []
  },
  {
   "cell_type": "code",
   "execution_count": null,
   "metadata": {},
   "outputs": [],
   "source": []
  },
  {
   "cell_type": "code",
   "execution_count": null,
   "metadata": {},
   "outputs": [],
   "source": []
  },
  {
   "cell_type": "code",
   "execution_count": null,
   "metadata": {},
   "outputs": [],
   "source": []
  }
 ],
 "metadata": {
  "kernelspec": {
   "display_name": "Python 3",
   "language": "python",
   "name": "python3"
  },
  "language_info": {
   "codemirror_mode": {
    "name": "ipython",
    "version": 3
   },
   "file_extension": ".py",
   "mimetype": "text/x-python",
   "name": "python",
   "nbconvert_exporter": "python",
   "pygments_lexer": "ipython3",
   "version": "3.8.5"
  }
 },
 "nbformat": 4,
 "nbformat_minor": 4
}
